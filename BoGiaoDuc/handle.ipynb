{
 "cells": [
  {
   "cell_type": "code",
   "execution_count": 4,
   "metadata": {},
   "outputs": [],
   "source": [
    "import pandas as pd\n",
    "import numpy as np\n",
    "\n",
    "id_daihoc = pd.read_csv(\"/Users/dinhvan/Projects/Code/crawl_data/scrapy/BoGiaoDuc/BoGiaoDuc/spiders/id_daihoc.csv\")\n",
    "id_daihoc['id_daihoc'] = 'https://moet.gov.vn/cosogiaoduc/Pages/danh-sach.aspx' + id_daihoc['id_daihoc']\n",
    "del id_daihoc['index']\n",
    "id_daihoc.to_csv('id_daihoc.csv')"
   ]
  },
  {
   "cell_type": "code",
   "execution_count": null,
   "metadata": {},
   "outputs": [],
   "source": []
  }
 ],
 "metadata": {
  "kernelspec": {
   "display_name": "Python 3",
   "language": "python",
   "name": "python3"
  },
  "language_info": {
   "codemirror_mode": {
    "name": "ipython",
    "version": 3
   },
   "file_extension": ".py",
   "mimetype": "text/x-python",
   "name": "python",
   "nbconvert_exporter": "python",
   "pygments_lexer": "ipython3",
   "version": "3.9.6"
  },
  "orig_nbformat": 4
 },
 "nbformat": 4,
 "nbformat_minor": 2
}
