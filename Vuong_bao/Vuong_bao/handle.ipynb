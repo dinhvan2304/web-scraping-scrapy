{
 "cells": [
  {
   "cell_type": "code",
   "execution_count": 27,
   "metadata": {},
   "outputs": [],
   "source": [
    "import pandas as pd\n",
    "\n",
    "data_raw = pd.read_csv(\"/Users/dinhvan/Projects/Code/crawl/scrapy/Vuong_bao/Vuong_bao/spiders/result.csv\", dtype = str)\n",
    "data_raw['district'] =data_raw['district'].str.split(\".\").str[1]\n",
    "data_raw['phone_number_result'] = data_raw['phone_number_result'].fillna('Không xác định')\n",
    "data_raw['phone_number_result'] = data_raw['phone_number_result'].str.replace('bỏ','Không xác định')\n",
    "data_raw['phone_number_result'] = data_raw['phone_number_result'].str.replace(\"'\",'')\n",
    "data_raw.loc[data_raw['phone_number_result'].str[0] == '+'] = '0968555246'\n",
    "data_raw.loc[(data_raw['phone_number_result'] == '84965980397')] = '0965980397'\n",
    "data_raw.loc[(data_raw['phone_number_result'] == '84986330997')] = '0986330997'\n",
    "data_raw.loc[(data_raw['phone_number_result'] == '84865519759')] = '0865519759'\n",
    "# data_raw['phone_number_result'] = data_raw['phone_number_result'].replace('84','0')\n",
    "\n",
    "# data_raw.loc[data_raw['phone_number_result'].str[0] != '0']\n",
    "data_raw.to_excel(\"/Users/dinhvan/Projects/Code/crawl/scrapy/Vuong_bao/Vuong_bao/spiders/result.xlsx\", index = False)"
   ]
  }
 ],
 "metadata": {
  "kernelspec": {
   "display_name": "Python 3",
   "language": "python",
   "name": "python3"
  },
  "language_info": {
   "codemirror_mode": {
    "name": "ipython",
    "version": 3
   },
   "file_extension": ".py",
   "mimetype": "text/x-python",
   "name": "python",
   "nbconvert_exporter": "python",
   "pygments_lexer": "ipython3",
   "version": "3.9.6"
  },
  "orig_nbformat": 4
 },
 "nbformat": 4,
 "nbformat_minor": 2
}
