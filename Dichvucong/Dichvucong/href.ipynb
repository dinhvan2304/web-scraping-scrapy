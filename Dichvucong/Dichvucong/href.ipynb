{
 "cells": [
  {
   "cell_type": "code",
   "execution_count": 15,
   "metadata": {},
   "outputs": [
    {
     "data": {
      "text/plain": [
       "array(['Công bố tiêu chuẩn áp dụng đối với trang thiết bị y tế loại B',\n",
       "       'Công bố tiêu chuẩn áp dụng đối với trang thiết bị y tế loại A',\n",
       "       'Công bố đủ điều kiện mua bán trang thiết bị y tế thuộc loại B, C, D',\n",
       "       'Công bố tiêu chuẩn áp dụng đối với trang thiết bị y tế loại B (Bộ Y tế)',\n",
       "       'Công bố đủ điều kiện sản xuất trang thiết bị y tế',\n",
       "       'Công bố đủ điều kiện mua bán trang thiết bị y tế loại B, C, D.',\n",
       "       'Công bố tiêu chuẩn áp dụng đối với trang thiết bị y tế loại A.',\n",
       "       'Cấp mới giấy chứng nhận lưu hành tự do (CFS) cho TTBYT nhóm A đã có số đăng ký lưu hành',\n",
       "       'Cấp giấy chứng nhận lưu hành tự do (CFS) đối với trang thiết bị y tế nhóm B, C, D đã có số đăng ký lưu hành',\n",
       "       'Công bố đủ điều kiện tư vấn về kỹ thuật trang thiết bị y tế',\n",
       "       'Công bố đủ điều kiện sản xuất trang thiết bị y tế.',\n",
       "       'Cấp mới giấy phép nhập khẩu trang thiết bị y tế - Mục đích phục vụ nghiên cứu khoa học, kiểm định, kiểm nghiệm, khảo nghiệm, đánh giá chất lượng hoặc đào tạo hướng dẫn việc sử dụng, hướng dẫn sửa chữa trang thiết bị y tế',\n",
       "       'Công bố đủ điều kiện thực hiện dịch vụ tư vấn về kỹ thuật Trang thiết bị y tế.',\n",
       "       'Cấp mới số lưu hành đối với trang thiết bị y tế khác (Là trang thiết bị loại C, D nhóm IVD nhập khẩu)',\n",
       "       'Cấp mới số lưu hành đối với trang thiết bị y tế khác (Là trang thiết bị loại C,D nhập khẩu)',\n",
       "       'Cấp mới số lưu hành đối với trang thiết bị y tế khác (Là trang thiết bị loại C,D sản xuất trong nước)',\n",
       "       'Công bố nồng độ, hàm lượng trong nguyên liệu sản xuất trang thiết bị y tế, chất ngoại kiểm chứa chất ma túy và tiền chất',\n",
       "       'Cấp mới giấy phép nhập khẩu trang thiết bị y tế - Mục đích phục vụ mục đích viện trợ, viện trợ nhân đạo; quà tặng, quà biếu cho cơ sở y tế; phục vụ hội chợ, triển lãm, trưng bày hoặc giới thiệu sản phẩm; phục vụ hoạt động khám bệnh, chữa bệnh nhân đạo',\n",
       "       'Cấp Giấy chứng nhận đăng ký hoạt động kiểm định trang thiết bị y tế',\n",
       "       'Cấp mới giấy phép nhập khẩu trang thiết bị y tế - Mục đích chữa bệnh cá nhân hoặc theo nhu cầu chẩn đoán đặc biệt của cơ sở y tế',\n",
       "       'Cấp giấy xác nhận nội dung quảng cáo trang thiết bị y tế',\n",
       "       'Cấp lại giấy xác nhận nội dung quảng cáo trang thiết bị y tế khi có thay đổi về tên, địa chỉ của tổ chức, cá nhân chịu trách nhiệm và không thay đổi nội dung quảng cáo',\n",
       "       'Cấp mới số lưu hành đối với trang thiết bị y tế chưa có quy chuẩn kỹ thuật quốc gia tương ứng (Là trang thiết bị loại B nhập khẩu)',\n",
       "       'Cấp mới số lưu hành đối với trang thiết bị y tế chưa có quy chuẩn kỹ thuật quốc gia tương ứng (Là trang thiết bị loại B sản xuất trong nước)',\n",
       "       'Đề nghị cấp chứng chỉ hành nghề phân loại trang thiết bị y tế',\n",
       "       'Cấp mới số lưu hành đối với trang thiết bị y tế chưa có quy chuẩn kỹ thuật quốc gia tương ứng (Là trang thiết bị loại B nhóm IVD nhập khẩu)',\n",
       "       'Cấp mới số lưu hành đối với trang thiết bị y tế là phương tiện đo nhưng không phải phê duyệt mẫu theo quy định của pháp luật về đo lường (Là trang thiết bị loại B sản xuất trong nước)',\n",
       "       'Công bố cơ sở đủ điều kiện phân loại trang thiết bị y tế',\n",
       "       'Cấp giấy phép nhập khẩu sinh phẩm chẩn đoán invitro chưa có số đăng ký lưu hành',\n",
       "       'Cấp mới số lưu hành đối với trang thiết bị y tế là phương tiện đo nhưng không phải phê duyệt mẫu theo quy định của pháp luật về đo lường (Là trang thiết bị loại B nhập khẩu)',\n",
       "       'Cấp mới số lưu hành đối với trang thiết bị y tế khác (Là trang thiết bị loại C, D nhóm IVD sản xuất trong nước)'],\n",
       "      dtype=object)"
      ]
     },
     "execution_count": 15,
     "metadata": {},
     "output_type": "execute_result"
    }
   ],
   "source": [
    "import pandas as pd\n",
    "info_temp = pd.read_csv('/Users/dinhvan/Projects/Code/web_scrape/scrapy/Dichvucong/Dichvucong/spiders/info_temp.csv', dtype = str)\n",
    "info_temp['thong_tin'].unique()\n"
   ]
  }
 ],
 "metadata": {
  "kernelspec": {
   "display_name": "Python 3",
   "language": "python",
   "name": "python3"
  },
  "language_info": {
   "codemirror_mode": {
    "name": "ipython",
    "version": 3
   },
   "file_extension": ".py",
   "mimetype": "text/x-python",
   "name": "python",
   "nbconvert_exporter": "python",
   "pygments_lexer": "ipython3",
   "version": "3.9.6"
  },
  "orig_nbformat": 4
 },
 "nbformat": 4,
 "nbformat_minor": 2
}
