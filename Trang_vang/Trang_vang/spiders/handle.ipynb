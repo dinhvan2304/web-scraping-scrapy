{
 "cells": [
  {
   "cell_type": "code",
   "execution_count": 5,
   "metadata": {},
   "outputs": [],
   "source": [
    "import pandas as pd\n",
    "data_raw = pd.read_csv('/Users/dinhvan/Projects/Code/crawl/scrapy/Trang_vang/Trang_vang/spiders/cong_ty_duoc_pham.csv', dtype = str)\n",
    "data_raw = data_raw.drop_duplicates(keep='first', ignore_index=True)\n",
    "data_raw = data_raw.drop_duplicates(subset=['so_dien_thoai'],keep='first', ignore_index=True)\n",
    "data_raw\n",
    "data_raw.to_excel('/Users/dinhvan/Projects/Code/crawl/scrapy/Trang_vang/Trang_vang/spiders/cong_ty_duoc_pham.xlsx', index = False)\n",
    "# data_raw.to_excel('/Users/dinhvan/Projects/Code/crawl/scrapy/Trang_vang/Trang_vang/spiders/result.xlsx')"
   ]
  }
 ],
 "metadata": {
  "kernelspec": {
   "display_name": "Python 3",
   "language": "python",
   "name": "python3"
  },
  "language_info": {
   "codemirror_mode": {
    "name": "ipython",
    "version": 3
   },
   "file_extension": ".py",
   "mimetype": "text/x-python",
   "name": "python",
   "nbconvert_exporter": "python",
   "pygments_lexer": "ipython3",
   "version": "3.9.6"
  },
  "orig_nbformat": 4
 },
 "nbformat": 4,
 "nbformat_minor": 2
}
